{
 "cells": [
  {
   "cell_type": "code",
   "execution_count": 1,
   "metadata": {},
   "outputs": [],
   "source": [
    "from __future__ import division\n",
    "from pyomo.environ import *\n",
    "import numpy as np\n",
    "import pandas as pd\n",
    "from folium import Map, CircleMarker, FeatureGroup, LayerControl\n",
    "import os.path\n",
    "import shapely.wkt\n",
    "from src.distance_calc_utils import haversine_distance_matrix"
   ]
  },
  {
   "cell_type": "markdown",
   "metadata": {},
   "source": [
    "## Calculate distances"
   ]
  },
  {
   "cell_type": "code",
   "execution_count": 2,
   "metadata": {},
   "outputs": [],
   "source": [
    "# Import demand\n",
    "demand = pd.read_csv('../data/interim/lp_data/input_data/Demand_Model_Output.csv')\n",
    "demand = demand[demand.A > 0]\n",
    "demand['geometry'] = demand.geometry.apply(lambda x: shapely.wkt.loads(x))\n",
    "demand['longitude'], demand['latitude'] =  demand.geometry.apply(lambda x: x.centroid.x), demand.geometry.apply(lambda x: x.centroid.y)"
   ]
  },
  {
   "cell_type": "code",
   "execution_count": 4,
   "metadata": {},
   "outputs": [],
   "source": [
    "# Calculate and filter demand\n",
    "distances = haversine_distance_matrix(demand)\n",
    "distances = distances[distances['dist'] <= 10]"
   ]
  },
  {
   "cell_type": "markdown",
   "metadata": {},
   "source": [
    "## Create Sets"
   ]
  },
  {
   "cell_type": "code",
   "execution_count": 15,
   "metadata": {},
   "outputs": [],
   "source": [
    "model = AbstractModel()"
   ]
  },
  {
   "cell_type": "code",
   "execution_count": 16,
   "metadata": {},
   "outputs": [],
   "source": [
    "node_list = list(demand.B)\n",
    "charger_list = [1,2]\n",
    "time_list = list(range(1,25))\n",
    "line_list = list(distances.index)\n",
    "\n",
    "# Create pyomo sets\n",
    "model.B = Set(initialize=node_list)\n",
    "model.K = Set(initialize=charger_list)\n",
    "model.T = Set(initialize=time_list)\n",
    "model.L = Set(initialize=line_list)"
   ]
  },
  {
   "cell_type": "markdown",
   "metadata": {},
   "source": [
    "## Create Parameters from Sets"
   ]
  },
  {
   "cell_type": "code",
   "execution_count": 17,
   "metadata": {},
   "outputs": [],
   "source": [
    "# Create Model Parameters\n",
    "model.F = Param(model.B, model.K)\n",
    "model.D = Param(model.B, model.K)\n",
    "model.p = Param(model.B, model.L)\n",
    "model.A = Param(model.B, model.T)\n",
    "model.G = Param(model.T)\n",
    "model.C = Param(model.B, model.K)\n",
    "model.N = Param(model.K)\n",
    "model.E = Param(model.B, model.K)\n",
    "model.S = Param(model.B)\n",
    "model.M = Param(initialize=100)\n",
    "model.VW = Param(model.B, model.K, model.T)\n",
    "model.P_H_U = Param(model.L, model.T)"
   ]
  },
  {
   "cell_type": "markdown",
   "metadata": {},
   "source": [
    "## Generate Parameter Files"
   ]
  },
  {
   "cell_type": "markdown",
   "metadata": {},
   "source": [
    "### Generate Fixed Costs DataFrame"
   ]
  },
  {
   "cell_type": "code",
   "execution_count": 51,
   "metadata": {},
   "outputs": [],
   "source": [
    "fixed_costs = pd.DataFrame(index=node_list, columns=['K', 'F'])\n",
    "charger_costs = dict(zip(charger_list, [320, 365]))"
   ]
  },
  {
   "cell_type": "code",
   "execution_count": 56,
   "metadata": {},
   "outputs": [],
   "source": [
    "fixed_cost_final = []\n",
    "\n",
    "for i in charger_list:\n",
    "    fixed_costs_copy = fixed_costs.copy()\n",
    "    fixed_costs_copy['K'] = i\n",
    "    fixed_costs_copy['F'] = charger_costs[i]\n",
    "    fixed_cost_final.append(fixed_costs_copy)\n",
    "\n",
    "fixed_costs = pd.concat(fixed_cost_final)"
   ]
  },
  {
   "cell_type": "code",
   "execution_count": 60,
   "metadata": {},
   "outputs": [],
   "source": [
    "fixed_costs = fixed_costs.reset_index().rename(columns={'index':'B'})"
   ]
  },
  {
   "cell_type": "markdown",
   "metadata": {},
   "source": [
    "### Generate Demand Charge"
   ]
  },
  {
   "cell_type": "code",
   "execution_count": 71,
   "metadata": {},
   "outputs": [],
   "source": [
    "demand_charges = pd.DataFrame(index=node_list, columns=['K', 'D'])"
   ]
  },
  {
   "cell_type": "code",
   "execution_count": 72,
   "metadata": {},
   "outputs": [],
   "source": [
    "demand_charges_final = []\n",
    "\n",
    "for i in charger_list:\n",
    "    demand_charges_copy = demand_charges.copy()\n",
    "    demand_charges_copy['K'] = i\n",
    "    demand_charges_copy['D'] = 0\n",
    "    demand_charges_final.append(demand_charges_copy)\n",
    "\n",
    "demand_charges = pd.concat(demand_charges_final)"
   ]
  },
  {
   "cell_type": "code",
   "execution_count": 74,
   "metadata": {},
   "outputs": [],
   "source": [
    "demand_charges = demand_charges.reset_index().rename(columns={'index':'B'})"
   ]
  },
  {
   "cell_type": "markdown",
   "metadata": {},
   "source": [
    "### Generate Incidence Matrix"
   ]
  },
  {
   "cell_type": "code",
   "execution_count": 82,
   "metadata": {},
   "outputs": [],
   "source": [
    "all_lines = []\n",
    "for id1 in node_list:\n",
    "    for id2 in node_list:\n",
    "        all_lines.append(f\"{id1}_{id2}\")"
   ]
  },
  {
   "cell_type": "code",
   "execution_count": 83,
   "metadata": {},
   "outputs": [],
   "source": [
    "# Because distance calculation both directions are the same\n",
    "incidence_matrix = pd.DataFrame(index=node_list, columns=all_lines)"
   ]
  },
  {
   "cell_type": "code",
   "execution_count": 99,
   "metadata": {
    "scrolled": false
   },
   "outputs": [],
   "source": [
    "for index, row in incidence_matrix.iterrows():\n",
    "    for line in row.index:\n",
    "        if (index in line.split('_')) and (index == line.split('_')[0]):\n",
    "            row[line] = 1\n",
    "        elif index == line.split('_')[1]:\n",
    "            row[line] = -1\n",
    "        else:\n",
    "            row[line] = 0"
   ]
  },
  {
   "cell_type": "code",
   "execution_count": 102,
   "metadata": {},
   "outputs": [
    {
     "data": {
      "text/html": [
       "<div>\n",
       "<style scoped>\n",
       "    .dataframe tbody tr th:only-of-type {\n",
       "        vertical-align: middle;\n",
       "    }\n",
       "\n",
       "    .dataframe tbody tr th {\n",
       "        vertical-align: top;\n",
       "    }\n",
       "\n",
       "    .dataframe thead th {\n",
       "        text-align: right;\n",
       "    }\n",
       "</style>\n",
       "<table border=\"1\" class=\"dataframe\">\n",
       "  <thead>\n",
       "    <tr style=\"text-align: right;\">\n",
       "      <th></th>\n",
       "      <th>8829a19907fffff_8829a19907fffff</th>\n",
       "      <th>8829a19907fffff_8829a19903fffff</th>\n",
       "      <th>8829a19907fffff_8829a0b2d5fffff</th>\n",
       "      <th>8829a19907fffff_8829a0b553fffff</th>\n",
       "      <th>8829a19907fffff_8829a56a5dfffff</th>\n",
       "      <th>8829a19907fffff_8829a18a97fffff</th>\n",
       "      <th>8829a19907fffff_8829a18ae5fffff</th>\n",
       "      <th>8829a19907fffff_8829a1983dfffff</th>\n",
       "      <th>8829a19907fffff_8829a0adebfffff</th>\n",
       "      <th>8829a19907fffff_8829a57b2dfffff</th>\n",
       "      <th>...</th>\n",
       "      <th>8829a0b2d5fffff_8829a18917fffff</th>\n",
       "      <th>8829a0b2d5fffff_8829a0aee3fffff</th>\n",
       "      <th>8829a0b2d5fffff_8829a56869fffff</th>\n",
       "      <th>8829a0b2d5fffff_8829a1d69dfffff</th>\n",
       "      <th>8829a0b2d5fffff_8829a18807fffff</th>\n",
       "      <th>8829a0b2d5fffff_8829a56c9dfffff</th>\n",
       "      <th>8829a0b2d5fffff_8829a56869fffff</th>\n",
       "      <th>8829a0b2d5fffff_8829a09635fffff</th>\n",
       "      <th>8829a0b2d5fffff_8829a1d6b9fffff</th>\n",
       "      <th>8829a0b2d5fffff_8829a0b2d5fffff</th>\n",
       "    </tr>\n",
       "  </thead>\n",
       "  <tbody>\n",
       "    <tr>\n",
       "      <th>8829a19903fffff</th>\n",
       "      <td>0</td>\n",
       "      <td>-1</td>\n",
       "      <td>0</td>\n",
       "      <td>0</td>\n",
       "      <td>0</td>\n",
       "      <td>0</td>\n",
       "      <td>0</td>\n",
       "      <td>0</td>\n",
       "      <td>0</td>\n",
       "      <td>0</td>\n",
       "      <td>...</td>\n",
       "      <td>0</td>\n",
       "      <td>0</td>\n",
       "      <td>0</td>\n",
       "      <td>0</td>\n",
       "      <td>0</td>\n",
       "      <td>0</td>\n",
       "      <td>0</td>\n",
       "      <td>0</td>\n",
       "      <td>0</td>\n",
       "      <td>0</td>\n",
       "    </tr>\n",
       "    <tr>\n",
       "      <th>8829a19903fffff</th>\n",
       "      <td>0</td>\n",
       "      <td>-1</td>\n",
       "      <td>0</td>\n",
       "      <td>0</td>\n",
       "      <td>0</td>\n",
       "      <td>0</td>\n",
       "      <td>0</td>\n",
       "      <td>0</td>\n",
       "      <td>0</td>\n",
       "      <td>0</td>\n",
       "      <td>...</td>\n",
       "      <td>0</td>\n",
       "      <td>0</td>\n",
       "      <td>0</td>\n",
       "      <td>0</td>\n",
       "      <td>0</td>\n",
       "      <td>0</td>\n",
       "      <td>0</td>\n",
       "      <td>0</td>\n",
       "      <td>0</td>\n",
       "      <td>0</td>\n",
       "    </tr>\n",
       "    <tr>\n",
       "      <th>8829a19903fffff</th>\n",
       "      <td>0</td>\n",
       "      <td>-1</td>\n",
       "      <td>0</td>\n",
       "      <td>0</td>\n",
       "      <td>0</td>\n",
       "      <td>0</td>\n",
       "      <td>0</td>\n",
       "      <td>0</td>\n",
       "      <td>0</td>\n",
       "      <td>0</td>\n",
       "      <td>...</td>\n",
       "      <td>0</td>\n",
       "      <td>0</td>\n",
       "      <td>0</td>\n",
       "      <td>0</td>\n",
       "      <td>0</td>\n",
       "      <td>0</td>\n",
       "      <td>0</td>\n",
       "      <td>0</td>\n",
       "      <td>0</td>\n",
       "      <td>0</td>\n",
       "    </tr>\n",
       "  </tbody>\n",
       "</table>\n",
       "<p>3 rows × 8281 columns</p>\n",
       "</div>"
      ],
      "text/plain": [
       "                8829a19907fffff_8829a19907fffff  \\\n",
       "8829a19903fffff                               0   \n",
       "8829a19903fffff                               0   \n",
       "8829a19903fffff                               0   \n",
       "\n",
       "                8829a19907fffff_8829a19903fffff  \\\n",
       "8829a19903fffff                              -1   \n",
       "8829a19903fffff                              -1   \n",
       "8829a19903fffff                              -1   \n",
       "\n",
       "                8829a19907fffff_8829a0b2d5fffff  \\\n",
       "8829a19903fffff                               0   \n",
       "8829a19903fffff                               0   \n",
       "8829a19903fffff                               0   \n",
       "\n",
       "                8829a19907fffff_8829a0b553fffff  \\\n",
       "8829a19903fffff                               0   \n",
       "8829a19903fffff                               0   \n",
       "8829a19903fffff                               0   \n",
       "\n",
       "                8829a19907fffff_8829a56a5dfffff  \\\n",
       "8829a19903fffff                               0   \n",
       "8829a19903fffff                               0   \n",
       "8829a19903fffff                               0   \n",
       "\n",
       "                8829a19907fffff_8829a18a97fffff  \\\n",
       "8829a19903fffff                               0   \n",
       "8829a19903fffff                               0   \n",
       "8829a19903fffff                               0   \n",
       "\n",
       "                8829a19907fffff_8829a18ae5fffff  \\\n",
       "8829a19903fffff                               0   \n",
       "8829a19903fffff                               0   \n",
       "8829a19903fffff                               0   \n",
       "\n",
       "                8829a19907fffff_8829a1983dfffff  \\\n",
       "8829a19903fffff                               0   \n",
       "8829a19903fffff                               0   \n",
       "8829a19903fffff                               0   \n",
       "\n",
       "                8829a19907fffff_8829a0adebfffff  \\\n",
       "8829a19903fffff                               0   \n",
       "8829a19903fffff                               0   \n",
       "8829a19903fffff                               0   \n",
       "\n",
       "                8829a19907fffff_8829a57b2dfffff  ...  \\\n",
       "8829a19903fffff                               0  ...   \n",
       "8829a19903fffff                               0  ...   \n",
       "8829a19903fffff                               0  ...   \n",
       "\n",
       "                8829a0b2d5fffff_8829a18917fffff  \\\n",
       "8829a19903fffff                               0   \n",
       "8829a19903fffff                               0   \n",
       "8829a19903fffff                               0   \n",
       "\n",
       "                8829a0b2d5fffff_8829a0aee3fffff  \\\n",
       "8829a19903fffff                               0   \n",
       "8829a19903fffff                               0   \n",
       "8829a19903fffff                               0   \n",
       "\n",
       "                8829a0b2d5fffff_8829a56869fffff  \\\n",
       "8829a19903fffff                               0   \n",
       "8829a19903fffff                               0   \n",
       "8829a19903fffff                               0   \n",
       "\n",
       "                8829a0b2d5fffff_8829a1d69dfffff  \\\n",
       "8829a19903fffff                               0   \n",
       "8829a19903fffff                               0   \n",
       "8829a19903fffff                               0   \n",
       "\n",
       "                8829a0b2d5fffff_8829a18807fffff  \\\n",
       "8829a19903fffff                               0   \n",
       "8829a19903fffff                               0   \n",
       "8829a19903fffff                               0   \n",
       "\n",
       "                8829a0b2d5fffff_8829a56c9dfffff  \\\n",
       "8829a19903fffff                               0   \n",
       "8829a19903fffff                               0   \n",
       "8829a19903fffff                               0   \n",
       "\n",
       "                8829a0b2d5fffff_8829a56869fffff  \\\n",
       "8829a19903fffff                               0   \n",
       "8829a19903fffff                               0   \n",
       "8829a19903fffff                               0   \n",
       "\n",
       "                8829a0b2d5fffff_8829a09635fffff  \\\n",
       "8829a19903fffff                               0   \n",
       "8829a19903fffff                               0   \n",
       "8829a19903fffff                               0   \n",
       "\n",
       "                8829a0b2d5fffff_8829a1d6b9fffff  \\\n",
       "8829a19903fffff                               0   \n",
       "8829a19903fffff                               0   \n",
       "8829a19903fffff                               0   \n",
       "\n",
       "                8829a0b2d5fffff_8829a0b2d5fffff  \n",
       "8829a19903fffff                               0  \n",
       "8829a19903fffff                               0  \n",
       "8829a19903fffff                               0  \n",
       "\n",
       "[3 rows x 8281 columns]"
      ]
     },
     "execution_count": 102,
     "metadata": {},
     "output_type": "execute_result"
    }
   ],
   "source": [
    "# Need to do in and 1,-1\n",
    "incidence_matrix.loc['8829a19903fffff']"
   ]
  },
  {
   "cell_type": "markdown",
   "metadata": {},
   "source": [
    "## Run the model"
   ]
  },
  {
   "cell_type": "code",
   "execution_count": null,
   "metadata": {},
   "outputs": [],
   "source": [
    "from src.lp_model import linear_program\n",
    "lp = linear_program()\n",
    "lp.run()"
   ]
  }
 ],
 "metadata": {
  "kernelspec": {
   "display_name": "maven-env (Python)",
   "language": "python",
   "name": "maven-env"
  },
  "language_info": {
   "codemirror_mode": {
    "name": "ipython",
    "version": 3
   },
   "file_extension": ".py",
   "mimetype": "text/x-python",
   "name": "python",
   "nbconvert_exporter": "python",
   "pygments_lexer": "ipython3",
   "version": "3.7.6"
  }
 },
 "nbformat": 4,
 "nbformat_minor": 4
}
