{
 "cells": [
  {
   "cell_type": "code",
   "execution_count": 1,
   "metadata": {},
   "outputs": [],
   "source": [
    "from src.lp_model import linear_program"
   ]
  },
  {
   "cell_type": "code",
   "execution_count": 2,
   "metadata": {},
   "outputs": [],
   "source": [
    "lp = linear_program()"
   ]
  },
  {
   "cell_type": "code",
   "execution_count": 3,
   "metadata": {},
   "outputs": [
    {
     "name": "stdout",
     "output_type": "stream",
     "text": [
      "Solver log file: '/var/folders/zx/rgyvh58506b2p_msp5jrhkf00000gn/T/tmphjl7jjsu.glpk.log'\n",
      "Solver solution file: '/var/folders/zx/rgyvh58506b2p_msp5jrhkf00000gn/T/tmp58zxvl37.glpk.raw'\n",
      "Solver problem files: ('/var/folders/zx/rgyvh58506b2p_msp5jrhkf00000gn/T/tmph_dw11e8.pyomo.lp',)\n",
      "GLPSOL: GLPK LP/MIP Solver, v4.65\n",
      "Parameter(s) specified in the command line:\n",
      " --write /var/folders/zx/rgyvh58506b2p_msp5jrhkf00000gn/T/tmp58zxvl37.glpk.raw\n",
      " --wglp /var/folders/zx/rgyvh58506b2p_msp5jrhkf00000gn/T/tmp5if06mp7.glpk.glp\n",
      " --cpxlp /var/folders/zx/rgyvh58506b2p_msp5jrhkf00000gn/T/tmph_dw11e8.pyomo.lp\n",
      "Reading problem data from '/var/folders/zx/rgyvh58506b2p_msp5jrhkf00000gn/T/tmph_dw11e8.pyomo.lp'...\n",
      "/var/folders/zx/rgyvh58506b2p_msp5jrhkf00000gn/T/tmph_dw11e8.pyomo.lp:352879: warning: lower bound of variable 'x69645' redefined\n",
      "/var/folders/zx/rgyvh58506b2p_msp5jrhkf00000gn/T/tmph_dw11e8.pyomo.lp:352879: warning: upper bound of variable 'x69645' redefined\n",
      "20521 rows, 69550 columns, 152209 non-zeros\n",
      "95 integer variables, all of which are binary\n",
      "352974 lines were read\n",
      "Writing problem data to '/var/folders/zx/rgyvh58506b2p_msp5jrhkf00000gn/T/tmp5if06mp7.glpk.glp'...\n",
      "401808 lines were written\n",
      "GLPK Integer Optimizer, v4.65\n",
      "20521 rows, 69550 columns, 152209 non-zeros\n",
      "95 integer variables, all of which are binary\n",
      "Preprocessing...\n",
      "20519 rows, 69454 columns, 152204 non-zeros\n",
      "0 integer variables, none of which are binary\n",
      "Scaling...\n",
      " A: min|aij| =  1.000e+00  max|aij| =  1.000e+00  ratio =  1.000e+00\n",
      "Problem data seem to be well scaled\n",
      "Constructing initial basis...\n",
      "Size of triangular part is 20519\n",
      "Solving LP relaxation...\n",
      "GLPK Simplex Optimizer, v4.65\n",
      "20519 rows, 69454 columns, 152204 non-zeros\n",
      "      0: obj =   0.000000000e+00 inf =   2.219e+04 (5095)\n",
      "   5122: obj =   1.302200985e+06 inf =   1.888e+03 (693) 18\n",
      "   5860: obj =   1.349304063e+06 inf =   2.258e-13 (0) 1\n",
      "*  9642: obj =   8.200075390e+05 inf =   2.430e-13 (18167) 21\n",
      "* 12882: obj =   6.179000128e+05 inf =   2.399e-13 (15734) 21\n",
      "* 15985: obj =   5.070101836e+05 inf =   2.751e-13 (14819) 20\n",
      "* 18919: obj =   4.079484237e+05 inf =   2.431e-13 (13534) 21\n",
      "* 21736: obj =   3.398939357e+05 inf =   2.668e-13 (12261) 21\n",
      "* 24614: obj =   2.892395877e+05 inf =   2.172e-13 (11990) 20\n",
      "* 27311: obj =   2.604165329e+05 inf =   2.239e-13 (10553) 22\n",
      "* 30085: obj =   2.447760817e+05 inf =   1.978e-13 (9224) 20\n",
      "* 32690: obj =   2.356188596e+05 inf =   2.055e-13 (7356) 21\n",
      "* 35391: obj =   2.316782697e+05 inf =   2.198e-13 (6023) 21\n",
      "* 38686: obj =   2.255615945e+05 inf =   2.644e-13 (1408) 25\n",
      "* 39871: obj =   2.250863429e+05 inf =   1.734e-13 (0) 6\n",
      "OPTIMAL LP SOLUTION FOUND\n",
      "Integer optimization begins...\n",
      "Long-step dual simplex will be used\n",
      "+ 39871: mip =     not found yet >=              -inf        (1; 0)\n",
      "+ 39871: >>>>>   2.250863429e+05 >=   2.250863429e+05   0.0% (1; 0)\n",
      "+ 39871: mip =   2.250863429e+05 >=     tree is empty   0.0% (0; 1)\n",
      "INTEGER OPTIMAL SOLUTION FOUND\n",
      "Time used:   62.1 secs\n",
      "Memory used: 73.5 Mb (77106640 bytes)\n",
      "Writing MIP solution to '/var/folders/zx/rgyvh58506b2p_msp5jrhkf00000gn/T/tmp58zxvl37.glpk.raw'...\n",
      "90080 lines were written\n"
     ]
    }
   ],
   "source": [
    "lp.run()"
   ]
  },
  {
   "cell_type": "code",
   "execution_count": 9,
   "metadata": {},
   "outputs": [
    {
     "name": "stdout",
     "output_type": "stream",
     "text": [
      "\u001b[31mf.csv\u001b[m\u001b[m \u001b[31mn.csv\u001b[m\u001b[m \u001b[31mv.csv\u001b[m\u001b[m \u001b[31mx.csv\u001b[m\u001b[m \u001b[31my.csv\u001b[m\u001b[m\r\n"
     ]
    }
   ],
   "source": [
    "! ls ../data/interim/lp_data/output_data"
   ]
  },
  {
   "cell_type": "code",
   "execution_count": null,
   "metadata": {},
   "outputs": [],
   "source": []
  }
 ],
 "metadata": {
  "kernelspec": {
   "display_name": "maven-env (Python)",
   "language": "python",
   "name": "maven-env"
  },
  "language_info": {
   "codemirror_mode": {
    "name": "ipython",
    "version": 3
   },
   "file_extension": ".py",
   "mimetype": "text/x-python",
   "name": "python",
   "nbconvert_exporter": "python",
   "pygments_lexer": "ipython3",
   "version": "3.7.6"
  }
 },
 "nbformat": 4,
 "nbformat_minor": 4
}
