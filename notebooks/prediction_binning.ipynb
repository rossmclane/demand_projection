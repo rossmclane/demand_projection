{
 "cells": [
  {
   "cell_type": "code",
   "execution_count": null,
   "metadata": {},
   "outputs": [],
   "source": [
    "import pandas as pd\n",
    "from src.grid import HexGrid\n",
    "from src.h3_utils import *\n",
    "from h3 import h3"
   ]
  },
  {
   "cell_type": "markdown",
   "metadata": {},
   "source": [
    "## Import Predictions"
   ]
  },
  {
   "cell_type": "code",
   "execution_count": null,
   "metadata": {},
   "outputs": [],
   "source": [
    "predictions = pd.read_pickle(\"~/Downloads/model_predictions_2020_7_16\")\n",
    "predictions.rename(columns={'stop_decr_lat':'latitude', 'stop_decr_lng':'longitude'}, inplace=True)"
   ]
  },
  {
   "cell_type": "markdown",
   "metadata": {},
   "source": [
    "## Bin Predictions by H3 res=8 bins"
   ]
  },
  {
   "cell_type": "code",
   "execution_count": null,
   "metadata": {},
   "outputs": [],
   "source": [
    "predictions['hour'] = predictions.end_datetime.apply(lambda x: x.hour)\n",
    "predictions = predictions.reset_index().drop(columns=['trajectory_index', 'msa_name_start', 'end_datetime'])\n",
    "\n",
    "hexbinned_predictions = bin_by_hexagon(predictions, groupby_items=['hex_id', 'hour'], agg_map={'prediction':'sum'}, resolution=8)"
   ]
  },
  {
   "cell_type": "markdown",
   "metadata": {},
   "source": [
    "## Generate a hexagon for every hour and fill them (to include 0 predictions)"
   ]
  },
  {
   "cell_type": "code",
   "execution_count": null,
   "metadata": {},
   "outputs": [],
   "source": [
    "filled_df = pd.DataFrame(hexbinned_predictions.hex_id.unique(), columns=['hex_id'])"
   ]
  },
  {
   "cell_type": "code",
   "execution_count": null,
   "metadata": {},
   "outputs": [],
   "source": [
    "all_df = []\n",
    "for i in range(25):\n",
    "    filled_df_copy = filled_df.copy()\n",
    "    filled_df_copy['hour'] = i\n",
    "    filled_df_copy['prediction'] = 0\n",
    "    all_df.append(filled_df_copy)\n",
    "    \n",
    "filled_df = pd.concat(all_df)"
   ]
  },
  {
   "cell_type": "code",
   "execution_count": null,
   "metadata": {
    "scrolled": false
   },
   "outputs": [],
   "source": [
    "for index, row in filled_df.iterrows():\n",
    "    \n",
    "    relevant_row = hexbinned_predictions[(hexbinned_predictions['hex_id'] == row['hex_id']) \\\n",
    "                          & (hexbinned_predictions['hour'] == row['hour'])]\n",
    "\n",
    "    if not relevant_row.empty:\n",
    "        filled_df.loc[index, 'prediction'] = relevant_row['prediction'].iloc[0]"
   ]
  },
  {
   "cell_type": "code",
   "execution_count": null,
   "metadata": {},
   "outputs": [],
   "source": [
    "# Create geojson column\n",
    "filled_df[\"geojson\"] = filled_df.hex_id.apply(lambda x:\n",
    "                                              {\"type\": \"Polygon\",\n",
    "                                               \"coordinates\":\n",
    "                                                   [h3.h3_to_geo_boundary(h=x, geo_json=True)]\n",
    "                                               }\n",
    "                                              )\n",
    "filled_df.to_pickle('hexbinned_model_predictions.pkl')"
   ]
  },
  {
   "cell_type": "code",
   "execution_count": null,
   "metadata": {},
   "outputs": [],
   "source": [
    "filled_df = pd.read_pickle('hexbinned_model_predictions.pkl')"
   ]
  },
  {
   "cell_type": "code",
   "execution_count": null,
   "metadata": {},
   "outputs": [],
   "source": [
    "test = hexbinned_predictions.groupby('hex_id').agg({'prediction':'sum', 'geojson':'first'}).reset_index()"
   ]
  },
  {
   "cell_type": "code",
   "execution_count": null,
   "metadata": {},
   "outputs": [],
   "source": [
    "test.rename(columns={'geojson':'geometry'}, inplace=True)"
   ]
  },
  {
   "cell_type": "code",
   "execution_count": null,
   "metadata": {},
   "outputs": [],
   "source": [
    "hmap = h3_choropleth_map(test, value_to_map='prediction', kind='linear', hour=None)"
   ]
  },
  {
   "cell_type": "code",
   "execution_count": null,
   "metadata": {},
   "outputs": [],
   "source": [
    "test[test.prediction == test.prediction.max()].geometry.iloc[0]"
   ]
  },
  {
   "cell_type": "code",
   "execution_count": null,
   "metadata": {},
   "outputs": [],
   "source": [
    "hmap"
   ]
  },
  {
   "cell_type": "code",
   "execution_count": null,
   "metadata": {},
   "outputs": [],
   "source": []
  }
 ],
 "metadata": {
  "kernelspec": {
   "display_name": "maven-env (Python)",
   "language": "python",
   "name": "maven-env"
  },
  "language_info": {
   "codemirror_mode": {
    "name": "ipython",
    "version": 3
   },
   "file_extension": ".py",
   "mimetype": "text/x-python",
   "name": "python",
   "nbconvert_exporter": "python",
   "pygments_lexer": "ipython3",
   "version": "3.7.6"
  }
 },
 "nbformat": 4,
 "nbformat_minor": 4
}
