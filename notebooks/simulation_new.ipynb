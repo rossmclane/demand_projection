{
 "cells": [
  {
   "cell_type": "markdown",
   "metadata": {},
   "source": [
    "# Calculate ICE Demand (EVI-Pro)"
   ]
  },
  {
   "cell_type": "markdown",
   "metadata": {},
   "source": [
    "## Imports"
   ]
  },
  {
   "cell_type": "code",
   "execution_count": null,
   "metadata": {},
   "outputs": [],
   "source": [
    "# Standard geospatial inputs\n",
    "import pandas as pd\n",
    "import geopandas as gpd\n",
    "import movingpandas as mpd\n",
    "from fiona.crs import from_epsg\n",
    "\n",
    "# Ignore warnings\n",
    "import warnings\n",
    "warnings.simplefilter(\"ignore\")\n",
    "\n",
    "# Custom utilities\n",
    "from src.components import Vehicle\n",
    "from src.simulation import Simulation\n",
    "from src.grid import HexGrid\n",
    "from src.models import Random_Sample_Charge_Location_Model, Linear_Kwh_Model\n",
    "\n",
    "from geojson.feature import *\n",
    "from h3 import h3\n",
    "from folium import Map, Marker, GeoJson\n",
    "from folium.plugins import MarkerCluster\n",
    "import branca.colormap as cm\n",
    "from branca.colormap import linear\n",
    "import folium\n",
    "import json\n",
    "from pandas.io.json import json_normalize\n",
    "\n",
    "\n",
    "import seaborn as sns\n",
    "import matplotlib.pyplot as plt\n",
    "from src.h3_utils import *"
   ]
  },
  {
   "cell_type": "markdown",
   "metadata": {},
   "source": [
    "## Load Trajectories\n",
    "* Alter this to import John's moving pandas pickle files"
   ]
  },
  {
   "cell_type": "code",
   "execution_count": null,
   "metadata": {},
   "outputs": [],
   "source": [
    "data = pd.read_csv('../data/raw/part-00167-tid-8316490494947456795-71092cdb-87a8-47f5-9d32-296121158b22-3052-1.c000.csv')\n",
    "data = data[data.msa_name == 'Los Angeles-Long Beach-Anaheim, CA (Metropolitan Statistical Area)']"
   ]
  },
  {
   "cell_type": "code",
   "execution_count": null,
   "metadata": {},
   "outputs": [],
   "source": [
    "data = data[data.battery_pack.isna()]\n",
    "dataGeo = gpd.GeoDataFrame(data, geometry=gpd.points_from_xy(data.decr_lng, data.decr_lat), crs=from_epsg(4326))\n",
    "dataGeo['t'] = pd.to_datetime(dataGeo.element_time_local, utc=True)\n",
    "dataGeo = dataGeo.set_index('t')\n",
    "traj_collection = mpd.TrajectoryCollection(dataGeo, 'hashed_vin')"
   ]
  },
  {
   "cell_type": "markdown",
   "metadata": {},
   "source": [
    "## Create Vehicles"
   ]
  },
  {
   "cell_type": "code",
   "execution_count": null,
   "metadata": {},
   "outputs": [],
   "source": [
    "# For each vehicle trajectory create a vehicle object\n",
    "vehicles = []\n",
    "for traj in traj_collection.trajectories:\n",
    "    vehicles.append(Vehicle(traj))"
   ]
  },
  {
   "cell_type": "markdown",
   "metadata": {},
   "source": [
    "## Create and Train Models"
   ]
  },
  {
   "cell_type": "code",
   "execution_count": null,
   "metadata": {},
   "outputs": [],
   "source": [
    "# Train the linear model\n",
    "linear_kwh_model = Linear_Kwh_Model()\n",
    "linear_kwh_model.train()"
   ]
  },
  {
   "cell_type": "code",
   "execution_count": null,
   "metadata": {},
   "outputs": [],
   "source": [
    "# No training required for this model\n",
    "random_sampling_model = Random_Sample_Charge_Location_Model()"
   ]
  },
  {
   "cell_type": "markdown",
   "metadata": {},
   "source": [
    "## Run Simulation"
   ]
  },
  {
   "cell_type": "code",
   "execution_count": null,
   "metadata": {},
   "outputs": [],
   "source": [
    "# Select the number of vehicles to be run through simulation\n",
    "num_vehicles = 100\n",
    "\n",
    "# Create the simulation\n",
    "sim = Simulation(vehicles[0:num_vehicles], random_sampling_model, linear_kwh_model)"
   ]
  },
  {
   "cell_type": "code",
   "execution_count": null,
   "metadata": {},
   "outputs": [],
   "source": [
    "# Run the simulation\n",
    "sim.run()"
   ]
  },
  {
   "cell_type": "markdown",
   "metadata": {},
   "source": [
    "## See results and visualize"
   ]
  },
  {
   "cell_type": "code",
   "execution_count": null,
   "metadata": {},
   "outputs": [],
   "source": [
    "sim.map(hour=12)"
   ]
  },
  {
   "cell_type": "code",
   "execution_count": null,
   "metadata": {},
   "outputs": [],
   "source": []
  }
 ],
 "metadata": {
  "kernelspec": {
   "display_name": "maven-env (Python)",
   "language": "python",
   "name": "maven-env"
  },
  "language_info": {
   "codemirror_mode": {
    "name": "ipython",
    "version": 3
   },
   "file_extension": ".py",
   "mimetype": "text/x-python",
   "name": "python",
   "nbconvert_exporter": "python",
   "pygments_lexer": "ipython3",
   "version": "3.7.6"
  }
 },
 "nbformat": 4,
 "nbformat_minor": 4
}
